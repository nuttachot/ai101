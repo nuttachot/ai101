{
 "cells": [
  {
   "cell_type": "code",
   "execution_count": null,
   "metadata": {
    "ExecuteTime": {
     "end_time": "2019-08-15T22:00:53.793000Z",
     "start_time": "2019-08-15T22:00:53.784347Z"
    }
   },
   "outputs": [],
   "source": [
    "!git clone https://github.com/nuttachot/ai101.git"
   ]
  },
  {
   "cell_type": "code",
   "execution_count": null,
   "metadata": {},
   "outputs": [],
   "source": [
    "import pandas as pd\n",
    "import numpy as np\n",
    "from sklearn.preprocessing import MinMaxScaler"
   ]
  },
  {
   "cell_type": "code",
   "execution_count": null,
   "metadata": {
    "ExecuteTime": {
     "end_time": "2019-08-15T21:42:25.585763Z",
     "start_time": "2019-08-15T21:42:25.247041Z"
    }
   },
   "outputs": [],
   "source": [
    "import matplotlib.pyplot as plt\n",
    "%matplotlib inline\n",
    "\n",
    "import seaborn as sns"
   ]
  },
  {
   "cell_type": "code",
   "execution_count": null,
   "metadata": {
    "ExecuteTime": {
     "end_time": "2019-08-15T21:42:25.619407Z",
     "start_time": "2019-08-15T21:42:25.596427Z"
    }
   },
   "outputs": [],
   "source": [
    "df = pd.read_csv('THB.csv')"
   ]
  },
  {
   "cell_type": "code",
   "execution_count": null,
   "metadata": {
    "ExecuteTime": {
     "end_time": "2019-08-15T21:42:25.647447Z",
     "start_time": "2019-08-15T21:42:25.621912Z"
    }
   },
   "outputs": [],
   "source": [
    "df.head()"
   ]
  },
  {
   "cell_type": "code",
   "execution_count": null,
   "metadata": {
    "ExecuteTime": {
     "end_time": "2019-08-15T21:42:25.658023Z",
     "start_time": "2019-08-15T21:42:25.650042Z"
    }
   },
   "outputs": [],
   "source": [
    "df.columns.values"
   ]
  },
  {
   "cell_type": "code",
   "execution_count": null,
   "metadata": {
    "ExecuteTime": {
     "end_time": "2019-08-15T21:42:25.668224Z",
     "start_time": "2019-08-15T21:42:25.663684Z"
    }
   },
   "outputs": [],
   "source": [
    "df.shape"
   ]
  },
  {
   "cell_type": "code",
   "execution_count": null,
   "metadata": {
    "ExecuteTime": {
     "end_time": "2019-08-15T21:42:25.678330Z",
     "start_time": "2019-08-15T21:42:25.671725Z"
    }
   },
   "outputs": [],
   "source": [
    "df['Date']"
   ]
  },
  {
   "cell_type": "code",
   "execution_count": null,
   "metadata": {
    "ExecuteTime": {
     "end_time": "2019-08-15T21:42:25.689310Z",
     "start_time": "2019-08-15T21:42:25.680590Z"
    }
   },
   "outputs": [],
   "source": [
    "df['Close'].describe()"
   ]
  },
  {
   "cell_type": "code",
   "execution_count": null,
   "metadata": {
    "ExecuteTime": {
     "end_time": "2019-08-15T21:42:25.946567Z",
     "start_time": "2019-08-15T21:42:25.691507Z"
    }
   },
   "outputs": [],
   "source": [
    "plt.figure(figsize=(16,8))\n",
    "plt.plot(df['Close'], label='Close Price history')"
   ]
  },
  {
   "cell_type": "raw",
   "metadata": {},
   "source": [
    "ซื้อ กระเป๋าหลุยส์ 1,000 เหรียญ\n",
    "\n",
    "ปี 2015\n",
    "37 x 1,000 = 37,000 บาท\n",
    "\n",
    "ปี 2018\n",
    "31 x 1,000 = 31,000 บาท\n",
    "\n",
    "ซื้อตอนปี 18 ประหยัดกว่า 37,000 - 31,000 = 6,000 บาท"
   ]
  },
  {
   "cell_type": "code",
   "execution_count": null,
   "metadata": {
    "ExecuteTime": {
     "end_time": "2019-08-15T21:42:26.762678Z",
     "start_time": "2019-08-15T21:42:25.949665Z"
    }
   },
   "outputs": [],
   "source": [
    "df.hist(bins=15, color='steelblue', edgecolor='black', linewidth=1.0, xlabelsize=8, ylabelsize=8, grid=False)    \n",
    "plt.tight_layout(rect=(0, 0, 1.2, 1.2))   "
   ]
  },
  {
   "cell_type": "code",
   "execution_count": null,
   "metadata": {
    "ExecuteTime": {
     "end_time": "2019-08-15T21:42:27.027303Z",
     "start_time": "2019-08-15T21:42:26.764985Z"
    }
   },
   "outputs": [],
   "source": [
    "f, ax = plt.subplots(figsize=(10, 6))\n",
    "boxplot = df.boxplot(column=['Close', 'Open', 'High', 'Low'])"
   ]
  },
  {
   "cell_type": "code",
   "execution_count": null,
   "metadata": {
    "ExecuteTime": {
     "end_time": "2019-08-15T21:42:27.302220Z",
     "start_time": "2019-08-15T21:42:27.030098Z"
    }
   },
   "outputs": [],
   "source": [
    "data = df.sort_index(ascending=True, axis=0)\n",
    "new_data = pd.DataFrame(index=range(0,len(df)),columns=['Date', 'Close'])\n",
    "\n",
    "for i in range(0,len(data)):\n",
    "     new_data['Date'][i] = data['Date'][i]\n",
    "     new_data['Close'][i] = data['Close'][i]"
   ]
  },
  {
   "cell_type": "code",
   "execution_count": null,
   "metadata": {
    "ExecuteTime": {
     "end_time": "2019-08-15T21:42:27.305767Z",
     "start_time": "2019-08-15T21:42:27.303564Z"
    }
   },
   "outputs": [],
   "source": [
    "cut = 1292"
   ]
  },
  {
   "cell_type": "code",
   "execution_count": null,
   "metadata": {
    "ExecuteTime": {
     "end_time": "2019-08-15T21:42:27.309979Z",
     "start_time": "2019-08-15T21:42:27.307405Z"
    }
   },
   "outputs": [],
   "source": [
    "train = new_data[:cut]\n",
    "valid = new_data[cut:]"
   ]
  },
  {
   "cell_type": "code",
   "execution_count": null,
   "metadata": {
    "ExecuteTime": {
     "end_time": "2019-08-15T21:42:27.316069Z",
     "start_time": "2019-08-15T21:42:27.311649Z"
    }
   },
   "outputs": [],
   "source": [
    "train.shape, valid.shape"
   ]
  },
  {
   "cell_type": "code",
   "execution_count": null,
   "metadata": {
    "ExecuteTime": {
     "end_time": "2019-08-15T21:42:27.324477Z",
     "start_time": "2019-08-15T21:42:27.318124Z"
    }
   },
   "outputs": [],
   "source": [
    "train['Date'].min(), train['Date'].max(), valid['Date'].min(), valid['Date'].max()"
   ]
  },
  {
   "cell_type": "code",
   "execution_count": null,
   "metadata": {
    "ExecuteTime": {
     "end_time": "2019-08-15T21:42:27.335419Z",
     "start_time": "2019-08-15T21:42:27.326438Z"
    }
   },
   "outputs": [],
   "source": [
    "new_data.index = new_data.Date\n",
    "new_data.drop('Date', axis=1, inplace=True)\n",
    "\n",
    "dataset = new_data.values\n",
    "train = dataset[0:cut,:]\n",
    "valid = dataset[cut:,:]\n",
    "new_data.shape, train.shape, valid.shape"
   ]
  },
  {
   "cell_type": "code",
   "execution_count": null,
   "metadata": {
    "ExecuteTime": {
     "end_time": "2019-08-15T21:42:27.342492Z",
     "start_time": "2019-08-15T21:42:27.338049Z"
    }
   },
   "outputs": [],
   "source": [
    "scaler = MinMaxScaler(feature_range=(0, 1))\n",
    "#print(dataset[0:60,0])\n",
    "\n",
    "scaled_data = scaler.fit_transform(dataset)\n",
    "#print(scaled_data[0:60,0])"
   ]
  },
  {
   "cell_type": "code",
   "execution_count": null,
   "metadata": {
    "ExecuteTime": {
     "end_time": "2019-08-15T21:42:27.350071Z",
     "start_time": "2019-08-15T21:42:27.344655Z"
    }
   },
   "outputs": [],
   "source": [
    "x_train, y_train = [], []\n",
    "for i in range(3,len(train)):\n",
    "    x_train.append(scaled_data[i-3:i,0])\n",
    "    y = []\n",
    "    y.append(scaled_data[i,0])\n",
    "   \n",
    "    y_train.append(y)"
   ]
  },
  {
   "cell_type": "code",
   "execution_count": null,
   "metadata": {
    "ExecuteTime": {
     "end_time": "2019-08-15T21:42:27.360242Z",
     "start_time": "2019-08-15T21:42:27.353666Z"
    }
   },
   "outputs": [],
   "source": [
    "x_train, y_train = np.array(x_train), np.array(y_train)\n",
    "x_train.shape"
   ]
  },
  {
   "cell_type": "code",
   "execution_count": null,
   "metadata": {
    "ExecuteTime": {
     "end_time": "2019-08-15T21:42:29.986102Z",
     "start_time": "2019-08-15T21:42:27.367001Z"
    }
   },
   "outputs": [],
   "source": [
    "from numpy import array\n",
    "from keras.models import Sequential\n",
    "from keras.layers import Dense, LSTM, Bidirectional, Dropout"
   ]
  },
  {
   "cell_type": "code",
   "execution_count": null,
   "metadata": {
    "ExecuteTime": {
     "end_time": "2019-08-15T21:42:30.040893Z",
     "start_time": "2019-08-15T21:42:29.991281Z"
    }
   },
   "outputs": [],
   "source": [
    "# define model\n",
    "\n",
    "model = Sequential()\n",
    "model.add(Dense(100, activation='relu', input_dim=3))\n",
    "model.add(Dense(1))"
   ]
  },
  {
   "cell_type": "code",
   "execution_count": null,
   "metadata": {
    "ExecuteTime": {
     "end_time": "2019-08-15T21:42:45.282023Z",
     "start_time": "2019-08-15T21:42:30.042958Z"
    }
   },
   "outputs": [],
   "source": [
    "model.compile(optimizer='adam', loss='mse', metrics=['mse'])\n",
    "# fit model\n",
    "model.fit(x_train, y_train, epochs=10, verbose=1, batch_size=1, shuffle=True)"
   ]
  },
  {
   "cell_type": "code",
   "execution_count": null,
   "metadata": {
    "ExecuteTime": {
     "end_time": "2019-08-15T21:42:45.290573Z",
     "start_time": "2019-08-15T21:42:45.283994Z"
    }
   },
   "outputs": [],
   "source": [
    "inputs = new_data[len(new_data) - len(valid) - 3:].values\n",
    "inputs  = scaler.transform(inputs)\n",
    "inputs.shape"
   ]
  },
  {
   "cell_type": "code",
   "execution_count": null,
   "metadata": {
    "ExecuteTime": {
     "end_time": "2019-08-15T21:42:45.298734Z",
     "start_time": "2019-08-15T21:42:45.292856Z"
    }
   },
   "outputs": [],
   "source": [
    "X_test = []\n",
    "for i in range(3,inputs.shape[0]):\n",
    "    X_test.append(inputs[i-3:i,0])\n",
    "X_test = np.array(X_test)"
   ]
  },
  {
   "cell_type": "code",
   "execution_count": null,
   "metadata": {
    "ExecuteTime": {
     "end_time": "2019-08-15T21:42:45.348537Z",
     "start_time": "2019-08-15T21:42:45.300584Z"
    }
   },
   "outputs": [],
   "source": [
    "closing_price = model.predict(X_test)\n",
    "closing_price = scaler.inverse_transform(closing_price)"
   ]
  },
  {
   "cell_type": "code",
   "execution_count": null,
   "metadata": {
    "ExecuteTime": {
     "end_time": "2019-08-15T21:42:45.354547Z",
     "start_time": "2019-08-15T21:42:45.350268Z"
    }
   },
   "outputs": [],
   "source": [
    "rms=np.sqrt(np.mean(np.power((valid-closing_price),2)))\n",
    "rms"
   ]
  },
  {
   "cell_type": "code",
   "execution_count": null,
   "metadata": {
    "ExecuteTime": {
     "end_time": "2019-08-15T21:43:15.740898Z",
     "start_time": "2019-08-15T21:42:45.356553Z"
    }
   },
   "outputs": [],
   "source": [
    "train = new_data[:cut]\n",
    "valid = new_data[cut:]\n",
    "valid['Predictions'] = closing_price\n",
    "\n",
    "plt.figure(figsize=(16,8))\n",
    "plt.plot(train['Close'],)\n",
    "plt.plot(valid[['Close','Predictions']])"
   ]
  },
  {
   "cell_type": "code",
   "execution_count": null,
   "metadata": {},
   "outputs": [],
   "source": []
  }
 ],
 "metadata": {
  "kernelspec": {
   "display_name": "Python 3",
   "language": "python",
   "name": "python3"
  },
  "language_info": {
   "codemirror_mode": {
    "name": "ipython",
    "version": 3
   },
   "file_extension": ".py",
   "mimetype": "text/x-python",
   "name": "python",
   "nbconvert_exporter": "python",
   "pygments_lexer": "ipython3",
   "version": "3.6.8"
  },
  "toc": {
   "base_numbering": 1,
   "nav_menu": {},
   "number_sections": true,
   "sideBar": true,
   "skip_h1_title": false,
   "title_cell": "Table of Contents",
   "title_sidebar": "Contents",
   "toc_cell": false,
   "toc_position": {},
   "toc_section_display": true,
   "toc_window_display": false
  },
  "varInspector": {
   "cols": {
    "lenName": 16,
    "lenType": 16,
    "lenVar": 40
   },
   "kernels_config": {
    "python": {
     "delete_cmd_postfix": "",
     "delete_cmd_prefix": "del ",
     "library": "var_list.py",
     "varRefreshCmd": "print(var_dic_list())"
    },
    "r": {
     "delete_cmd_postfix": ") ",
     "delete_cmd_prefix": "rm(",
     "library": "var_list.r",
     "varRefreshCmd": "cat(var_dic_list()) "
    }
   },
   "types_to_exclude": [
    "module",
    "function",
    "builtin_function_or_method",
    "instance",
    "_Feature"
   ],
   "window_display": false
  }
 },
 "nbformat": 4,
 "nbformat_minor": 2
}

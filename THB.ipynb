{
 "cells": [
  {
   "cell_type": "code",
   "execution_count": 30,
   "metadata": {
    "ExecuteTime": {
     "end_time": "2019-08-15T23:47:58.424898Z",
     "start_time": "2019-08-15T23:47:58.213897Z"
    }
   },
   "outputs": [
    {
     "name": "stdout",
     "output_type": "stream",
     "text": [
      "fatal: destination path 'ai101' already exists and is not an empty directory.\r\n"
     ]
    }
   ],
   "source": [
    "!git clone https://github.com/nuttachot/ai101.git"
   ]
  },
  {
   "cell_type": "code",
   "execution_count": 31,
   "metadata": {
    "ExecuteTime": {
     "end_time": "2019-08-15T23:48:01.222917Z",
     "start_time": "2019-08-15T23:48:01.218418Z"
    }
   },
   "outputs": [
    {
     "data": {
      "text/plain": [
       "'/Users/nuttachot/Library/CloudStorage/iCloud Drive/Documents/CPSU-Course/DS_docker_101/notebooks/กระทรวง'"
      ]
     },
     "execution_count": 31,
     "metadata": {},
     "output_type": "execute_result"
    }
   ],
   "source": [
    "pwd"
   ]
  },
  {
   "cell_type": "code",
   "execution_count": 2,
   "metadata": {
    "ExecuteTime": {
     "end_time": "2019-08-15T22:39:30.543684Z",
     "start_time": "2019-08-15T22:39:29.566264Z"
    }
   },
   "outputs": [],
   "source": [
    "import pandas as pd\n",
    "import numpy as np\n",
    "from sklearn.preprocessing import MinMaxScaler"
   ]
  },
  {
   "cell_type": "code",
   "execution_count": 3,
   "metadata": {
    "ExecuteTime": {
     "end_time": "2019-08-15T22:39:30.892328Z",
     "start_time": "2019-08-15T22:39:30.546081Z"
    }
   },
   "outputs": [],
   "source": [
    "import matplotlib.pyplot as plt\n",
    "%matplotlib inline\n",
    "\n",
    "import seaborn as sns"
   ]
  },
  {
   "cell_type": "code",
   "execution_count": 4,
   "metadata": {
    "ExecuteTime": {
     "end_time": "2019-08-15T22:39:30.918724Z",
     "start_time": "2019-08-15T22:39:30.895094Z"
    }
   },
   "outputs": [],
   "source": [
    "df = pd.read_csv('THB.csv')"
   ]
  },
  {
   "cell_type": "code",
   "execution_count": 5,
   "metadata": {
    "ExecuteTime": {
     "end_time": "2019-08-15T22:39:30.947099Z",
     "start_time": "2019-08-15T22:39:30.921888Z"
    }
   },
   "outputs": [
    {
     "data": {
      "text/html": [
       "<div>\n",
       "<style scoped>\n",
       "    .dataframe tbody tr th:only-of-type {\n",
       "        vertical-align: middle;\n",
       "    }\n",
       "\n",
       "    .dataframe tbody tr th {\n",
       "        vertical-align: top;\n",
       "    }\n",
       "\n",
       "    .dataframe thead th {\n",
       "        text-align: right;\n",
       "    }\n",
       "</style>\n",
       "<table border=\"1\" class=\"dataframe\">\n",
       "  <thead>\n",
       "    <tr style=\"text-align: right;\">\n",
       "      <th></th>\n",
       "      <th>Date</th>\n",
       "      <th>Close</th>\n",
       "      <th>Open</th>\n",
       "      <th>High</th>\n",
       "      <th>Low</th>\n",
       "      <th>Change</th>\n",
       "    </tr>\n",
       "  </thead>\n",
       "  <tbody>\n",
       "    <tr>\n",
       "      <th>0</th>\n",
       "      <td>Nov 23, 2018</td>\n",
       "      <td>33.08</td>\n",
       "      <td>32.98</td>\n",
       "      <td>33.137</td>\n",
       "      <td>32.95</td>\n",
       "      <td>0.30%</td>\n",
       "    </tr>\n",
       "    <tr>\n",
       "      <th>1</th>\n",
       "      <td>Nov 22, 2018</td>\n",
       "      <td>32.98</td>\n",
       "      <td>32.90</td>\n",
       "      <td>33.030</td>\n",
       "      <td>32.87</td>\n",
       "      <td>0.27%</td>\n",
       "    </tr>\n",
       "    <tr>\n",
       "      <th>2</th>\n",
       "      <td>Nov 21, 2018</td>\n",
       "      <td>32.89</td>\n",
       "      <td>32.97</td>\n",
       "      <td>33.040</td>\n",
       "      <td>32.85</td>\n",
       "      <td>-0.30%</td>\n",
       "    </tr>\n",
       "    <tr>\n",
       "      <th>3</th>\n",
       "      <td>Nov 20, 2018</td>\n",
       "      <td>32.99</td>\n",
       "      <td>32.94</td>\n",
       "      <td>33.030</td>\n",
       "      <td>32.89</td>\n",
       "      <td>0.15%</td>\n",
       "    </tr>\n",
       "    <tr>\n",
       "      <th>4</th>\n",
       "      <td>Nov 19, 2018</td>\n",
       "      <td>32.94</td>\n",
       "      <td>32.87</td>\n",
       "      <td>33.060</td>\n",
       "      <td>32.83</td>\n",
       "      <td>0.24%</td>\n",
       "    </tr>\n",
       "  </tbody>\n",
       "</table>\n",
       "</div>"
      ],
      "text/plain": [
       "           Date  Close   Open    High    Low  Change\n",
       "0  Nov 23, 2018  33.08  32.98  33.137  32.95   0.30%\n",
       "1  Nov 22, 2018  32.98  32.90  33.030  32.87   0.27%\n",
       "2  Nov 21, 2018  32.89  32.97  33.040  32.85  -0.30%\n",
       "3  Nov 20, 2018  32.99  32.94  33.030  32.89   0.15%\n",
       "4  Nov 19, 2018  32.94  32.87  33.060  32.83   0.24%"
      ]
     },
     "execution_count": 5,
     "metadata": {},
     "output_type": "execute_result"
    }
   ],
   "source": [
    "df.head()"
   ]
  },
  {
   "cell_type": "code",
   "execution_count": 6,
   "metadata": {
    "ExecuteTime": {
     "end_time": "2019-08-15T22:39:30.958469Z",
     "start_time": "2019-08-15T22:39:30.949414Z"
    }
   },
   "outputs": [
    {
     "data": {
      "text/plain": [
       "array(['Date', 'Close', 'Open', 'High', 'Low', 'Change'], dtype=object)"
      ]
     },
     "execution_count": 6,
     "metadata": {},
     "output_type": "execute_result"
    }
   ],
   "source": [
    "df.columns.values"
   ]
  },
  {
   "cell_type": "code",
   "execution_count": 7,
   "metadata": {
    "ExecuteTime": {
     "end_time": "2019-08-15T22:39:30.968158Z",
     "start_time": "2019-08-15T22:39:30.963860Z"
    }
   },
   "outputs": [
    {
     "data": {
      "text/plain": [
       "(1614, 6)"
      ]
     },
     "execution_count": 7,
     "metadata": {},
     "output_type": "execute_result"
    }
   ],
   "source": [
    "df.shape"
   ]
  },
  {
   "cell_type": "code",
   "execution_count": 8,
   "metadata": {
    "ExecuteTime": {
     "end_time": "2019-08-15T22:39:30.977582Z",
     "start_time": "2019-08-15T22:39:30.971535Z"
    }
   },
   "outputs": [
    {
     "data": {
      "text/plain": [
       "0       Nov 23, 2018\n",
       "1       Nov 22, 2018\n",
       "2       Nov 21, 2018\n",
       "3       Nov 20, 2018\n",
       "4       Nov 19, 2018\n",
       "5       Nov 18, 2018\n",
       "6       Nov 16, 2018\n",
       "7       Nov 15, 2018\n",
       "8       Nov 14, 2018\n",
       "9       Nov 13, 2018\n",
       "10      Nov 12, 2018\n",
       "11      Nov 11, 2018\n",
       "12      Nov 09, 2018\n",
       "13      Nov 08, 2018\n",
       "14      Nov 07, 2018\n",
       "15      Nov 06, 2018\n",
       "16      Nov 05, 2018\n",
       "17      Nov 04, 2018\n",
       "18      Nov 02, 2018\n",
       "19      Nov 01, 2018\n",
       "20      Oct 31, 2018\n",
       "21      Oct 30, 2018\n",
       "22      Oct 29, 2018\n",
       "23      Oct 28, 2018\n",
       "24      Oct 26, 2018\n",
       "25      Oct 25, 2018\n",
       "26      Oct 24, 2018\n",
       "27      Oct 23, 2018\n",
       "28      Oct 22, 2018\n",
       "29      Oct 21, 2018\n",
       "            ...     \n",
       "1584    Dec 04, 2012\n",
       "1585    Dec 03, 2012\n",
       "1586    Nov 30, 2012\n",
       "1587    Nov 29, 2012\n",
       "1588    Nov 28, 2012\n",
       "1589    Nov 27, 2012\n",
       "1590    Nov 26, 2012\n",
       "1591    Nov 23, 2012\n",
       "1592    Nov 22, 2012\n",
       "1593    Nov 21, 2012\n",
       "1594    Nov 20, 2012\n",
       "1595    Nov 19, 2012\n",
       "1596    Nov 16, 2012\n",
       "1597    Nov 15, 2012\n",
       "1598    Nov 14, 2012\n",
       "1599    Nov 13, 2012\n",
       "1600    Nov 12, 2012\n",
       "1601    Nov 09, 2012\n",
       "1602    Nov 08, 2012\n",
       "1603    Nov 07, 2012\n",
       "1604    Nov 06, 2012\n",
       "1605    Nov 05, 2012\n",
       "1606    Nov 02, 2012\n",
       "1607    Nov 01, 2012\n",
       "1608    Oct 31, 2012\n",
       "1609    Oct 30, 2012\n",
       "1610    Oct 29, 2012\n",
       "1611    Oct 26, 2012\n",
       "1612    Oct 25, 2012\n",
       "1613    Oct 24, 2012\n",
       "Name: Date, Length: 1614, dtype: object"
      ]
     },
     "execution_count": 8,
     "metadata": {},
     "output_type": "execute_result"
    }
   ],
   "source": [
    "df['Date']"
   ]
  },
  {
   "cell_type": "code",
   "execution_count": 9,
   "metadata": {
    "ExecuteTime": {
     "end_time": "2019-08-15T22:39:30.987698Z",
     "start_time": "2019-08-15T22:39:30.979797Z"
    }
   },
   "outputs": [
    {
     "data": {
      "text/plain": [
       "count    1614.000000\n",
       "mean       33.090666\n",
       "std         1.762718\n",
       "min        28.615000\n",
       "25%        32.060750\n",
       "50%        32.837500\n",
       "75%        34.763750\n",
       "max        36.500000\n",
       "Name: Close, dtype: float64"
      ]
     },
     "execution_count": 9,
     "metadata": {},
     "output_type": "execute_result"
    }
   ],
   "source": [
    "df['Close'].describe()"
   ]
  },
  {
   "cell_type": "code",
   "execution_count": 10,
   "metadata": {
    "ExecuteTime": {
     "end_time": "2019-08-15T22:39:31.299431Z",
     "start_time": "2019-08-15T22:39:30.989716Z"
    }
   },
   "outputs": [
    {
     "data": {
      "text/plain": [
       "[<matplotlib.lines.Line2D at 0x1a1858c780>]"
      ]
     },
     "execution_count": 10,
     "metadata": {},
     "output_type": "execute_result"
    },
    {
     "data": {
      "image/png": "[encoded data removed]",
      "text/plain": [
       "<Figure size 1152x576 with 1 Axes>"
      ]
     },
     "metadata": {
      "needs_background": "light"
     },
     "output_type": "display_data"
    }
   ],
   "source": [
    "plt.figure(figsize=(16,8))\n",
    "plt.plot(df['Close'], label='Close Price history')"
   ]
  },
  {
   "cell_type": "raw",
   "metadata": {},
   "source": [
    "ซื้อ กระเป๋าหลุยส์ 1,000 เหรียญ\n",
    "\n",
    "ปี 2015\n",
    "37 x 1,000 = 37,000 บาท\n",
    "\n",
    "ปี 2018\n",
    "31 x 1,000 = 31,000 บาท\n",
    "\n",
    "ซื้อตอนปี 18 ประหยัดกว่า 37,000 - 31,000 = 6,000 บาท"
   ]
  },
  {
   "cell_type": "code",
   "execution_count": 11,
   "metadata": {
    "ExecuteTime": {
     "end_time": "2019-08-15T22:39:32.002994Z",
     "start_time": "2019-08-15T22:39:31.302078Z"
    }
   },
   "outputs": [
    {
     "data": {
      "image/png": "[encoded data removed]",
      "text/plain": [
       "<Figure size 432x288 with 4 Axes>"
      ]
     },
     "metadata": {
      "needs_background": "light"
     },
     "output_type": "display_data"
    }
   ],
   "source": [
    "df.hist(bins=15, color='steelblue', edgecolor='black', linewidth=1.0, xlabelsize=8, ylabelsize=8, grid=False)    \n",
    "plt.tight_layout(rect=(0, 0, 1.2, 1.2))   "
   ]
  },
  {
   "cell_type": "code",
   "execution_count": 12,
   "metadata": {
    "ExecuteTime": {
     "end_time": "2019-08-15T22:39:32.248346Z",
     "start_time": "2019-08-15T22:39:32.005962Z"
    }
   },
   "outputs": [
    {
     "data": {
      "image/png": "[encoded data removed]",
      "text/plain": [
       "<Figure size 720x432 with 1 Axes>"
      ]
     },
     "metadata": {
      "needs_background": "light"
     },
     "output_type": "display_data"
    }
   ],
   "source": [
    "f, ax = plt.subplots(figsize=(10, 6))\n",
    "boxplot = df.boxplot(column=['Close', 'Open', 'High', 'Low'])"
   ]
  },
  {
   "cell_type": "code",
   "execution_count": 13,
   "metadata": {
    "ExecuteTime": {
     "end_time": "2019-08-15T22:39:32.502967Z",
     "start_time": "2019-08-15T22:39:32.250448Z"
    }
   },
   "outputs": [],
   "source": [
    "data = df.sort_index(ascending=True, axis=0)\n",
    "new_data = pd.DataFrame(index=range(0,len(df)),columns=['Date', 'Close'])\n",
    "\n",
    "for i in range(0,len(data)):\n",
    "     new_data['Date'][i] = data['Date'][i]\n",
    "     new_data['Close'][i] = data['Close'][i]"
   ]
  },
  {
   "cell_type": "code",
   "execution_count": 14,
   "metadata": {
    "ExecuteTime": {
     "end_time": "2019-08-15T22:39:32.507246Z",
     "start_time": "2019-08-15T22:39:32.505065Z"
    }
   },
   "outputs": [],
   "source": [
    "cut = 1292"
   ]
  },
  {
   "cell_type": "code",
   "execution_count": 15,
   "metadata": {
    "ExecuteTime": {
     "end_time": "2019-08-15T22:39:32.513423Z",
     "start_time": "2019-08-15T22:39:32.509122Z"
    }
   },
   "outputs": [],
   "source": [
    "train = new_data[:cut]\n",
    "valid = new_data[cut:]"
   ]
  },
  {
   "cell_type": "code",
   "execution_count": 16,
   "metadata": {
    "ExecuteTime": {
     "end_time": "2019-08-15T22:39:32.520820Z",
     "start_time": "2019-08-15T22:39:32.515656Z"
    }
   },
   "outputs": [
    {
     "data": {
      "text/plain": [
       "((1292, 2), (322, 2))"
      ]
     },
     "execution_count": 16,
     "metadata": {},
     "output_type": "execute_result"
    }
   ],
   "source": [
    "train.shape, valid.shape"
   ]
  },
  {
   "cell_type": "code",
   "execution_count": 17,
   "metadata": {
    "ExecuteTime": {
     "end_time": "2019-08-15T22:39:32.528895Z",
     "start_time": "2019-08-15T22:39:32.523065Z"
    }
   },
   "outputs": [
    {
     "data": {
      "text/plain": [
       "('Apr 01, 2014', 'Sep 30, 2018', 'Apr 01, 2013', 'Sep 30, 2013')"
      ]
     },
     "execution_count": 17,
     "metadata": {},
     "output_type": "execute_result"
    }
   ],
   "source": [
    "train['Date'].min(), train['Date'].max(), valid['Date'].min(), valid['Date'].max()"
   ]
  },
  {
   "cell_type": "code",
   "execution_count": 18,
   "metadata": {
    "ExecuteTime": {
     "end_time": "2019-08-15T22:39:32.538411Z",
     "start_time": "2019-08-15T22:39:32.531069Z"
    }
   },
   "outputs": [
    {
     "data": {
      "text/plain": [
       "((1614, 1), (1292, 1), (322, 1))"
      ]
     },
     "execution_count": 18,
     "metadata": {},
     "output_type": "execute_result"
    }
   ],
   "source": [
    "new_data.index = new_data.Date\n",
    "new_data.drop('Date', axis=1, inplace=True)\n",
    "\n",
    "dataset = new_data.values\n",
    "train = dataset[0:cut,:]\n",
    "valid = dataset[cut:,:]\n",
    "new_data.shape, train.shape, valid.shape"
   ]
  },
  {
   "cell_type": "code",
   "execution_count": 19,
   "metadata": {
    "ExecuteTime": {
     "end_time": "2019-08-15T22:39:32.545850Z",
     "start_time": "2019-08-15T22:39:32.540492Z"
    }
   },
   "outputs": [
    {
     "name": "stderr",
     "output_type": "stream",
     "text": [
      "/Users/nuttachot/miniconda3/envs/AI/lib/python3.6/site-packages/sklearn/utils/validation.py:475: DataConversionWarning: Data with input dtype object was converted to float64 by MinMaxScaler.\n",
      "  warnings.warn(msg, DataConversionWarning)\n"
     ]
    }
   ],
   "source": [
    "scaler = MinMaxScaler(feature_range=(0, 1))\n",
    "#print(dataset[0:60,0])\n",
    "\n",
    "scaled_data = scaler.fit_transform(dataset)\n",
    "#print(scaled_data[0:60,0])"
   ]
  },
  {
   "cell_type": "code",
   "execution_count": 20,
   "metadata": {
    "ExecuteTime": {
     "end_time": "2019-08-15T22:39:32.555832Z",
     "start_time": "2019-08-15T22:39:32.548245Z"
    }
   },
   "outputs": [],
   "source": [
    "x_train, y_train = [], []\n",
    "for i in range(3,len(train)):\n",
    "    x_train.append(scaled_data[i-3:i,0])\n",
    "    y = []\n",
    "    y.append(scaled_data[i,0])\n",
    "   \n",
    "    y_train.append(y)"
   ]
  },
  {
   "cell_type": "code",
   "execution_count": 21,
   "metadata": {
    "ExecuteTime": {
     "end_time": "2019-08-15T22:39:32.564958Z",
     "start_time": "2019-08-15T22:39:32.558601Z"
    }
   },
   "outputs": [
    {
     "data": {
      "text/plain": [
       "(1289, 3)"
      ]
     },
     "execution_count": 21,
     "metadata": {},
     "output_type": "execute_result"
    }
   ],
   "source": [
    "x_train, y_train = np.array(x_train), np.array(y_train)\n",
    "x_train.shape"
   ]
  },
  {
   "cell_type": "code",
   "execution_count": 22,
   "metadata": {
    "ExecuteTime": {
     "end_time": "2019-08-15T22:39:35.763197Z",
     "start_time": "2019-08-15T22:39:32.571657Z"
    }
   },
   "outputs": [
    {
     "name": "stderr",
     "output_type": "stream",
     "text": [
      "Using TensorFlow backend.\n"
     ]
    }
   ],
   "source": [
    "from numpy import array\n",
    "from keras.models import Sequential\n",
    "from keras.layers import Dense, LSTM, Bidirectional, Dropout"
   ]
  },
  {
   "cell_type": "code",
   "execution_count": 23,
   "metadata": {
    "ExecuteTime": {
     "end_time": "2019-08-15T22:39:35.814396Z",
     "start_time": "2019-08-15T22:39:35.769224Z"
    }
   },
   "outputs": [],
   "source": [
    "# define model\n",
    "\n",
    "model = Sequential()\n",
    "model.add(Dense(100, activation='relu', input_dim=3))\n",
    "model.add(Dense(1))"
   ]
  },
  {
   "cell_type": "code",
   "execution_count": 24,
   "metadata": {
    "ExecuteTime": {
     "end_time": "2019-08-15T22:39:52.986679Z",
     "start_time": "2019-08-15T22:39:35.816585Z"
    }
   },
   "outputs": [
    {
     "name": "stdout",
     "output_type": "stream",
     "text": [
      "Epoch 1/10\n",
      "1289/1289 [==============================] - 2s 2ms/step - loss: 0.0021 - mean_squared_error: 0.0021\n",
      "Epoch 2/10\n",
      "1289/1289 [==============================] - 2s 1ms/step - loss: 2.8278e-04 - mean_squared_error: 2.8278e-04\n",
      "Epoch 3/10\n",
      "1289/1289 [==============================] - 2s 1ms/step - loss: 3.0880e-04 - mean_squared_error: 3.0880e-04\n",
      "Epoch 4/10\n",
      "1289/1289 [==============================] - 2s 1ms/step - loss: 3.0192e-04 - mean_squared_error: 3.0192e-04\n",
      "Epoch 5/10\n",
      "1289/1289 [==============================] - 2s 1ms/step - loss: 2.8031e-04 - mean_squared_error: 2.8031e-04\n",
      "Epoch 6/10\n",
      "1289/1289 [==============================] - 2s 1ms/step - loss: 2.8250e-04 - mean_squared_error: 2.8250e-04\n",
      "Epoch 7/10\n",
      "1289/1289 [==============================] - 2s 1ms/step - loss: 2.7319e-04 - mean_squared_error: 2.7319e-04\n",
      "Epoch 8/10\n",
      "1289/1289 [==============================] - 2s 1ms/step - loss: 2.6566e-04 - mean_squared_error: 2.6566e-04\n",
      "Epoch 9/10\n",
      "1289/1289 [==============================] - 2s 1ms/step - loss: 2.5735e-04 - mean_squared_error: 2.5735e-04\n",
      "Epoch 10/10\n",
      "1289/1289 [==============================] - 2s 1ms/step - loss: 2.7125e-04 - mean_squared_error: 2.7125e-04\n"
     ]
    },
    {
     "data": {
      "text/plain": [
       "<keras.callbacks.History at 0x102821ac8>"
      ]
     },
     "execution_count": 24,
     "metadata": {},
     "output_type": "execute_result"
    }
   ],
   "source": [
    "model.compile(optimizer='adam', loss='mse', metrics=['mse'])\n",
    "# fit model\n",
    "model.fit(x_train, y_train, epochs=10, verbose=1, batch_size=1, shuffle=True)"
   ]
  },
  {
   "cell_type": "code",
   "execution_count": 25,
   "metadata": {
    "ExecuteTime": {
     "end_time": "2019-08-15T22:39:52.995730Z",
     "start_time": "2019-08-15T22:39:52.989492Z"
    }
   },
   "outputs": [
    {
     "data": {
      "text/plain": [
       "(325, 1)"
      ]
     },
     "execution_count": 25,
     "metadata": {},
     "output_type": "execute_result"
    }
   ],
   "source": [
    "inputs = new_data[len(new_data) - len(valid) - 3:].values\n",
    "inputs  = scaler.transform(inputs)\n",
    "inputs.shape"
   ]
  },
  {
   "cell_type": "code",
   "execution_count": 26,
   "metadata": {
    "ExecuteTime": {
     "end_time": "2019-08-15T22:39:53.003087Z",
     "start_time": "2019-08-15T22:39:52.998128Z"
    }
   },
   "outputs": [],
   "source": [
    "X_test = []\n",
    "for i in range(3,inputs.shape[0]):\n",
    "    X_test.append(inputs[i-3:i,0])\n",
    "X_test = np.array(X_test)"
   ]
  },
  {
   "cell_type": "code",
   "execution_count": 27,
   "metadata": {
    "ExecuteTime": {
     "end_time": "2019-08-15T22:39:53.047520Z",
     "start_time": "2019-08-15T22:39:53.005194Z"
    }
   },
   "outputs": [],
   "source": [
    "closing_price = model.predict(X_test)\n",
    "closing_price = scaler.inverse_transform(closing_price)"
   ]
  },
  {
   "cell_type": "code",
   "execution_count": 28,
   "metadata": {
    "ExecuteTime": {
     "end_time": "2019-08-15T22:39:53.052778Z",
     "start_time": "2019-08-15T22:39:53.048887Z"
    }
   },
   "outputs": [
    {
     "data": {
      "text/plain": [
       "0.11261907073902241"
      ]
     },
     "execution_count": 28,
     "metadata": {},
     "output_type": "execute_result"
    }
   ],
   "source": [
    "rms=np.sqrt(np.mean(np.power((valid-closing_price),2)))\n",
    "rms"
   ]
  },
  {
   "cell_type": "code",
   "execution_count": 29,
   "metadata": {
    "ExecuteTime": {
     "end_time": "2019-08-15T22:40:23.440544Z",
     "start_time": "2019-08-15T22:39:53.054373Z"
    }
   },
   "outputs": [
    {
     "name": "stderr",
     "output_type": "stream",
     "text": [
      "/Users/nuttachot/miniconda3/envs/AI/lib/python3.6/site-packages/ipykernel_launcher.py:3: SettingWithCopyWarning: \n",
      "A value is trying to be set on a copy of a slice from a DataFrame.\n",
      "Try using .loc[row_indexer,col_indexer] = value instead\n",
      "\n",
      "See the caveats in the documentation: http://pandas.pydata.org/pandas-docs/stable/indexing.html#indexing-view-versus-copy\n",
      "  This is separate from the ipykernel package so we can avoid doing imports until\n"
     ]
    },
    {
     "data": {
      "text/plain": [
       "[<matplotlib.lines.Line2D at 0x1a37f02198>,\n",
       " <matplotlib.lines.Line2D at 0x1a37f023c8>]"
      ]
     },
     "execution_count": 29,
     "metadata": {},
     "output_type": "execute_result"
    },
    {
     "data": {
      "image/png": "[encoded data removed]",
      "text/plain": [
       "<Figure size 1152x576 with 1 Axes>"
      ]
     },
     "metadata": {
      "needs_background": "light"
     },
     "output_type": "display_data"
    }
   ],
   "source": [
    "train = new_data[:cut]\n",
    "valid = new_data[cut:]\n",
    "valid['Predictions'] = closing_price\n",
    "\n",
    "plt.figure(figsize=(16,8))\n",
    "plt.plot(train['Close'],)\n",
    "plt.plot(valid[['Close','Predictions']])"
   ]
  },
  {
   "cell_type": "code",
   "execution_count": null,
   "metadata": {},
   "outputs": [],
   "source": []
  }
 ],
 "metadata": {
  "kernelspec": {
   "display_name": "Python 3",
   "language": "python",
   "name": "python3"
  },
  "language_info": {
   "codemirror_mode": {
    "name": "ipython",
    "version": 3
   },
   "file_extension": ".py",
   "mimetype": "text/x-python",
   "name": "python",
   "nbconvert_exporter": "python",
   "pygments_lexer": "ipython3",
   "version": "3.6.8"
  },
  "toc": {
   "base_numbering": 1,
   "nav_menu": {},
   "number_sections": true,
   "sideBar": true,
   "skip_h1_title": false,
   "title_cell": "Table of Contents",
   "title_sidebar": "Contents",
   "toc_cell": false,
   "toc_position": {},
   "toc_section_display": true,
   "toc_window_display": false
  },
  "varInspector": {
   "cols": {
    "lenName": 16,
    "lenType": 16,
    "lenVar": 40
   },
   "kernels_config": {
    "python": {
     "delete_cmd_postfix": "",
     "delete_cmd_prefix": "del ",
     "library": "var_list.py",
     "varRefreshCmd": "print(var_dic_list())"
    },
    "r": {
     "delete_cmd_postfix": ") ",
     "delete_cmd_prefix": "rm(",
     "library": "var_list.r",
     "varRefreshCmd": "cat(var_dic_list()) "
    }
   },
   "types_to_exclude": [
    "module",
    "function",
    "builtin_function_or_method",
    "instance",
    "_Feature"
   ],
   "window_display": false
  }
 },
 "nbformat": 4,
 "nbformat_minor": 2
}

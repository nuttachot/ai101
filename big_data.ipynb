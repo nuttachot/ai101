{
 "cells": [
  {
   "cell_type": "code",
   "execution_count": null,
   "metadata": {
    "ExecuteTime": {
     "end_time": "2019-08-15T23:10:45.443666Z",
     "start_time": "2019-08-15T23:10:45.440307Z"
    }
   },
   "outputs": [],
   "source": [
    "from functools import reduce"
   ]
  },
  {
   "cell_type": "code",
   "execution_count": null,
   "metadata": {
    "ExecuteTime": {
     "end_time": "2019-08-15T23:12:27.750207Z",
     "start_time": "2019-08-15T23:12:27.381098Z"
    }
   },
   "outputs": [],
   "source": [
    "arr = list(range(10000000))"
   ]
  },
  {
   "cell_type": "code",
   "execution_count": null,
   "metadata": {
    "ExecuteTime": {
     "end_time": "2019-08-15T23:12:45.098759Z",
     "start_time": "2019-08-15T23:12:42.268072Z"
    }
   },
   "outputs": [],
   "source": [
    "result = 0\n",
    "for i in arr:\n",
    "    result += i**2"
   ]
  },
  {
   "cell_type": "code",
   "execution_count": null,
   "metadata": {
    "ExecuteTime": {
     "end_time": "2019-08-15T23:13:14.869103Z",
     "start_time": "2019-08-15T23:13:11.187651Z"
    }
   },
   "outputs": [],
   "source": [
    "map_arr = map(lambda x: x**2, arr)\n",
    "\n",
    "result = reduce(lambda x, y: x + y, map_arr)"
   ]
  },
  {
   "cell_type": "code",
   "execution_count": null,
   "metadata": {
    "ExecuteTime": {
     "end_time": "2019-08-15T23:13:21.454850Z",
     "start_time": "2019-08-15T23:13:21.452723Z"
    }
   },
   "outputs": [],
   "source": [
    "import multiprocessing as mp"
   ]
  },
  {
   "cell_type": "code",
   "execution_count": null,
   "metadata": {
    "ExecuteTime": {
     "end_time": "2019-08-15T23:13:29.875794Z",
     "start_time": "2019-08-15T23:13:29.873328Z"
    }
   },
   "outputs": [],
   "source": [
    "def pow2(x):\n",
    "    return x**2"
   ]
  },
  {
   "cell_type": "code",
   "execution_count": null,
   "metadata": {
    "ExecuteTime": {
     "end_time": "2019-08-15T23:13:36.413736Z",
     "start_time": "2019-08-15T23:13:36.410482Z"
    }
   },
   "outputs": [],
   "source": [
    "cores = mp.cpu_count()\n",
    "print(cores )"
   ]
  },
  {
   "cell_type": "code",
   "execution_count": null,
   "metadata": {
    "ExecuteTime": {
     "end_time": "2019-08-15T23:13:45.681991Z",
     "start_time": "2019-08-15T23:13:42.823952Z"
    }
   },
   "outputs": [],
   "source": [
    "pool = mp.Pool(cores)\n",
    "\n",
    "map_arr = pool.map(pow2, arr)\n",
    "result = reduce(lambda x, y: x + y, map_arr)\n",
    "pool.close()\n",
    "pool.join()"
   ]
  },
  {
   "cell_type": "code",
   "execution_count": null,
   "metadata": {},
   "outputs": [],
   "source": []
  }
 ],
 "metadata": {
  "kernelspec": {
   "display_name": "Python 3",
   "language": "python",
   "name": "python3"
  },
  "language_info": {
   "codemirror_mode": {
    "name": "ipython",
    "version": 3
   },
   "file_extension": ".py",
   "mimetype": "text/x-python",
   "name": "python",
   "nbconvert_exporter": "python",
   "pygments_lexer": "ipython3",
   "version": "3.6.8"
  },
  "toc": {
   "base_numbering": 1,
   "nav_menu": {},
   "number_sections": true,
   "sideBar": true,
   "skip_h1_title": false,
   "title_cell": "Table of Contents",
   "title_sidebar": "Contents",
   "toc_cell": false,
   "toc_position": {},
   "toc_section_display": true,
   "toc_window_display": false
  },
  "varInspector": {
   "cols": {
    "lenName": 16,
    "lenType": 16,
    "lenVar": 40
   },
   "kernels_config": {
    "python": {
     "delete_cmd_postfix": "",
     "delete_cmd_prefix": "del ",
     "library": "var_list.py",
     "varRefreshCmd": "print(var_dic_list())"
    },
    "r": {
     "delete_cmd_postfix": ") ",
     "delete_cmd_prefix": "rm(",
     "library": "var_list.r",
     "varRefreshCmd": "cat(var_dic_list()) "
    }
   },
   "types_to_exclude": [
    "module",
    "function",
    "builtin_function_or_method",
    "instance",
    "_Feature"
   ],
   "window_display": false
  }
 },
 "nbformat": 4,
 "nbformat_minor": 2
}

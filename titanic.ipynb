{
 "cells": [
  {
   "cell_type": "code",
   "execution_count": null,
   "metadata": {
    "ExecuteTime": {
     "end_time": "2019-08-15T22:45:34.648062Z",
     "start_time": "2019-08-15T22:45:34.644275Z"
    }
   },
   "outputs": [],
   "source": [
    "import pandas as pd\n",
    "from matplotlib import pyplot as plt\n",
    "import seaborn as sns\n",
    "%matplotlib inline"
   ]
  },
  {
   "cell_type": "code",
   "execution_count": null,
   "metadata": {
    "ExecuteTime": {
     "end_time": "2019-08-15T22:45:34.847229Z",
     "start_time": "2019-08-15T22:45:34.831096Z"
    }
   },
   "outputs": [],
   "source": [
    "test = pd.read_csv(\"test.csv\")\n",
    "train = pd.read_csv(\"train.csv\")\n",
    "print(\"Dimensions of train: {}\".format(train.shape))\n",
    "print(\"Dimensions of test: {}\".format(test.shape))"
   ]
  },
  {
   "cell_type": "code",
   "execution_count": null,
   "metadata": {
    "ExecuteTime": {
     "end_time": "2019-08-15T22:45:35.008372Z",
     "start_time": "2019-08-15T22:45:34.993628Z"
    }
   },
   "outputs": [],
   "source": [
    "train.head()"
   ]
  },
  {
   "cell_type": "code",
   "execution_count": null,
   "metadata": {
    "ExecuteTime": {
     "end_time": "2019-08-15T22:45:35.174152Z",
     "start_time": "2019-08-15T22:45:35.169994Z"
    }
   },
   "outputs": [],
   "source": [
    "print(train.columns.values)"
   ]
  },
  {
   "cell_type": "code",
   "execution_count": null,
   "metadata": {
    "ExecuteTime": {
     "end_time": "2019-08-15T22:45:35.319932Z",
     "start_time": "2019-08-15T22:45:35.313210Z"
    }
   },
   "outputs": [],
   "source": [
    "train.isnull().sum()"
   ]
  },
  {
   "cell_type": "code",
   "execution_count": null,
   "metadata": {
    "ExecuteTime": {
     "end_time": "2019-08-15T22:45:35.473061Z",
     "start_time": "2019-08-15T22:45:35.469187Z"
    }
   },
   "outputs": [],
   "source": [
    "data = train\n",
    "data['Died']= 1 - data['Survived']"
   ]
  },
  {
   "cell_type": "code",
   "execution_count": null,
   "metadata": {
    "ExecuteTime": {
     "end_time": "2019-08-15T22:45:35.776512Z",
     "start_time": "2019-08-15T22:45:35.621387Z"
    }
   },
   "outputs": [],
   "source": [
    "data.groupby('Sex').agg('sum')[['Survived','Died']].plot(kind='bar',stacked=True)"
   ]
  },
  {
   "cell_type": "code",
   "execution_count": null,
   "metadata": {
    "ExecuteTime": {
     "end_time": "2019-08-15T22:45:36.152610Z",
     "start_time": "2019-08-15T22:45:35.898976Z"
    }
   },
   "outputs": [],
   "source": [
    "sns.violinplot(x='Sex', y='Age', hue='Survived',data=data,split=True)"
   ]
  },
  {
   "cell_type": "code",
   "execution_count": null,
   "metadata": {
    "ExecuteTime": {
     "end_time": "2019-08-15T22:45:36.808993Z",
     "start_time": "2019-08-15T22:45:36.292978Z"
    }
   },
   "outputs": [],
   "source": [
    "figure = plt.figure(figsize=(32,16))\n",
    "plt.hist([data[data['Survived'] == 1]['Fare'], data[data['Survived'] == 0]['Fare']], \n",
    "         stacked=True,\n",
    "         bins = 50, label = ['Survived','Dead'])\n",
    "plt.xlabel('Fare')\n",
    "plt.ylabel('Number of Passengers')\n",
    "plt.legend();"
   ]
  },
  {
   "cell_type": "code",
   "execution_count": null,
   "metadata": {
    "ExecuteTime": {
     "end_time": "2019-08-15T22:45:38.038592Z",
     "start_time": "2019-08-15T22:45:36.946492Z"
    }
   },
   "outputs": [],
   "source": [
    "data.hist(bins=15, color='steelblue', edgecolor='black', linewidth=1.0, xlabelsize=8, ylabelsize=8, grid=False)    \n",
    "plt.tight_layout(rect=(0, 0, 1.2, 1.2))   "
   ]
  },
  {
   "cell_type": "code",
   "execution_count": null,
   "metadata": {
    "ExecuteTime": {
     "end_time": "2019-08-15T22:45:38.154322Z",
     "start_time": "2019-08-15T22:45:38.148167Z"
    }
   },
   "outputs": [],
   "source": [
    "train[\"Age\"].describe()"
   ]
  },
  {
   "cell_type": "code",
   "execution_count": null,
   "metadata": {
    "ExecuteTime": {
     "end_time": "2019-08-15T22:45:38.369682Z",
     "start_time": "2019-08-15T22:45:38.264025Z"
    }
   },
   "outputs": [],
   "source": [
    "class_pivot = data.pivot_table(index=\"Pclass\",values=\"Survived\")\n",
    "class_pivot.plot.bar()\n",
    "plt.show()"
   ]
  },
  {
   "cell_type": "code",
   "execution_count": null,
   "metadata": {
    "ExecuteTime": {
     "end_time": "2019-08-15T22:46:30.243705Z",
     "start_time": "2019-08-15T22:46:30.135293Z"
    }
   },
   "outputs": [],
   "source": [
    "from sklearn.tree import DecisionTreeClassifier"
   ]
  },
  {
   "cell_type": "code",
   "execution_count": null,
   "metadata": {
    "ExecuteTime": {
     "end_time": "2019-08-15T22:46:38.981203Z",
     "start_time": "2019-08-15T22:46:38.976958Z"
    }
   },
   "outputs": [],
   "source": [
    "def loaddf(filename):\n",
    "    df = pd.read_csv(filename).drop(['Cabin','Ticket','Name'],axis=1) #drop stuff we don't use\n",
    "    df = pd.concat([df, pd.get_dummies(df['Sex'])],axis=1).drop(['Sex'],axis=1)\n",
    "    df = pd.concat([df, pd.get_dummies(df['Embarked'])],axis=1).drop(['Embarked'],axis=1)\n",
    "    df['Fsize']=df['Parch']+df['SibSp']+1 #calculate family size\n",
    "    return df"
   ]
  },
  {
   "cell_type": "code",
   "execution_count": null,
   "metadata": {
    "ExecuteTime": {
     "end_time": "2019-08-15T22:46:48.138776Z",
     "start_time": "2019-08-15T22:46:48.134861Z"
    }
   },
   "outputs": [],
   "source": [
    "def cleanse(df, dropna=True):\n",
    "    if dropna:\n",
    "        df = df.dropna()\n",
    "    else:\n",
    "        df['Age']=df['Age'].fillna(df['Age'].mean())\n",
    "        df['Fare']=df['Fare'].fillna(df['Fare'].mean())\n",
    "        #df['Pclass']=df['Pclass'].fillna(3)\n",
    "        df=df.fillna(0)\n",
    "    return df"
   ]
  },
  {
   "cell_type": "code",
   "execution_count": null,
   "metadata": {
    "ExecuteTime": {
     "end_time": "2019-08-15T22:47:07.046291Z",
     "start_time": "2019-08-15T22:47:07.043449Z"
    }
   },
   "outputs": [],
   "source": [
    "def load_X(df):\n",
    "    train_X=df[['male','Pclass','Age','Fsize']]\n",
    "    return train_X"
   ]
  },
  {
   "cell_type": "code",
   "execution_count": null,
   "metadata": {
    "ExecuteTime": {
     "end_time": "2019-08-15T22:47:17.136948Z",
     "start_time": "2019-08-15T22:47:17.134237Z"
    }
   },
   "outputs": [],
   "source": [
    "def load_y(df):\n",
    "    train_y=df['Survived']\n",
    "    return train_y"
   ]
  },
  {
   "cell_type": "code",
   "execution_count": null,
   "metadata": {
    "ExecuteTime": {
     "end_time": "2019-08-15T22:47:28.929551Z",
     "start_time": "2019-08-15T22:47:28.899134Z"
    }
   },
   "outputs": [],
   "source": [
    "train = cleanse(loaddf('train.csv'),dropna=False)\n",
    "train_X, train_y = load_X(train),load_y(train)\n",
    "model = DecisionTreeClassifier(max_depth=3)\n",
    "model.fit(train_X, train_y)\n",
    "pd.DataFrame([model.feature_importances_],columns=train_X.columns )"
   ]
  },
  {
   "cell_type": "code",
   "execution_count": null,
   "metadata": {
    "ExecuteTime": {
     "end_time": "2019-08-15T22:47:49.598906Z",
     "start_time": "2019-08-15T22:47:49.586436Z"
    }
   },
   "outputs": [],
   "source": [
    "from sklearn.tree import export_graphviz\n",
    "export_graphviz(model, out_file='tree.dot', feature_names = train_X.columns.tolist(),class_names=['ตาย','รอด'], filled = True, rounded = True) #,\n",
    "    \n",
    "from IPython.display import Image\n",
    "Image(filename = 'tree.png')"
   ]
  },
  {
   "cell_type": "code",
   "execution_count": null,
   "metadata": {},
   "outputs": [],
   "source": []
  }
 ],
 "metadata": {
  "kernelspec": {
   "display_name": "Python 3",
   "language": "python",
   "name": "python3"
  },
  "language_info": {
   "codemirror_mode": {
    "name": "ipython",
    "version": 3
   },
   "file_extension": ".py",
   "mimetype": "text/x-python",
   "name": "python",
   "nbconvert_exporter": "python",
   "pygments_lexer": "ipython3",
   "version": "3.6.8"
  },
  "toc": {
   "base_numbering": 1,
   "nav_menu": {},
   "number_sections": true,
   "sideBar": true,
   "skip_h1_title": false,
   "title_cell": "Table of Contents",
   "title_sidebar": "Contents",
   "toc_cell": false,
   "toc_position": {},
   "toc_section_display": true,
   "toc_window_display": false
  },
  "varInspector": {
   "cols": {
    "lenName": 16,
    "lenType": 16,
    "lenVar": 40
   },
   "kernels_config": {
    "python": {
     "delete_cmd_postfix": "",
     "delete_cmd_prefix": "del ",
     "library": "var_list.py",
     "varRefreshCmd": "print(var_dic_list())"
    },
    "r": {
     "delete_cmd_postfix": ") ",
     "delete_cmd_prefix": "rm(",
     "library": "var_list.r",
     "varRefreshCmd": "cat(var_dic_list()) "
    }
   },
   "types_to_exclude": [
    "module",
    "function",
    "builtin_function_or_method",
    "instance",
    "_Feature"
   ],
   "window_display": false
  }
 },
 "nbformat": 4,
 "nbformat_minor": 2
}
